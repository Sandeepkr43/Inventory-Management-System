{
  "nbformat": 4,
  "nbformat_minor": 0,
  "metadata": {
    "colab": {
      "name": "IMS.ipynb",
      "provenance": []
    },
    "kernelspec": {
      "name": "python3",
      "display_name": "Python 3"
    },
    "language_info": {
      "name": "python"
    }
  },
  "cells": [
    {
      "cell_type": "code",
      "metadata": {
        "id": "YOC74nEK454l"
      },
      "source": [
        "import json\n",
        "fd=open(\"list.json\",'w')"
      ],
      "execution_count": 68,
      "outputs": []
    },
    {
      "cell_type": "code",
      "metadata": {
        "id": "Cbut_Ou-486K"
      },
      "source": [
        "wholeseller={100:{\"product\":\"kurkure\",\"price\":20,\"quantity\":150,\"pkd_on\":\"november\",\"expyear\":2021},\n",
        "      101:{\"product\":\"dairy milk\",\"price\":10,\"quantity\":140,\"pkd_on\":\"january\",\"expyear\":2023},\n",
        "      102:{\"product\":\"parle g\",\"price\":10,\"quantity\":50,\"pkd_on\":\"january\",\"expyear\":2023},\n",
        "      103:{\"product\":\"lays\",\"price\":5,\"quantity\":120,\"pkd_on\":\"feb\",\"expyear\":2026},\n",
        "      104:{\"product\":\"kurkure\",\"price\":10,\"quantity\":160,\"pkd_on\":\"febrauary\",\"expyear\":2026},\n",
        "      105:{\"product\":\"DCM soap\",\"price\":25,\"quantity\":100,\"pkd_on\":\"june\",\"expyear\":2025},\n",
        "      106:{\"product\":\"lifeboy\",\"price\":27,\"quantity\":80,\"pkd_on\":\"june\",\"expyear\":2028},\n",
        "      107:{\"product\":\"Santoor\",\"price\":29,\"quantity\":60,\"pkd_on\":\"august\",\"expyear\":2026},\n",
        "      108:{\"product\":\"surfexel\",\"price\":35,\"quantity\":40,\"pkd_on\":\"january\",\"expyear\":2030},\n",
        "      109:{\"product\":\"sprite\",\"price\":40,\"quantity\":200,\"pkd_on\":\"january\",\"expyear\":2022},\n",
        "      110:{\"product\":\"cococola\",\"price\":42,\"quantity\":20,\"pkd_on\":\"march\",\"expyear\":2022},\n",
        "      111:{\"product\":\"chicken masala\",\"price\":10,\"quantity\":100,\"pkd_on\":\"june\",\"expyear\":2025},\n",
        "      112:{\"product\":\"garam masala\",\"price\":10,\"quantity\":90,\"pkd_on\":\"november\",\"expyear\":2025},\n",
        "      113:{\"product\":\"kinder joy\",\"price\":25,\"quantity\":76,\"pkd_on\":\"april\",\"expyear\":2024},\n",
        "      114:{\"product\":\"medimix\",\"price\":32,\"quantity\":30,\"pkd_on\":\"january\",\"expyear\":2026},\n",
        "      115:{\"product\":\"dove shampoo\",\"price\":60,\"quantity\":120,\"pkd_on\":\"march\",\"expyear\":2025},\n",
        "      116:{\"product\":\"icecream\",\"price\":15,\"quantity\":40,\"pkd_on\":\"december\",\"expyear\":2022},\n",
        "      117:{\"product\":\"Axe perfume\",\"price\":90,\"quantity\":30,\"pkd_on\":\"july\",\"expyear\":2026},\n",
        "      118:{\"product\":\"gone mad\",\"price\":10,\"quantity\":140,\"pkd_on\":\"august\",\"expyear\":2024},\n",
        "      119:{\"product\":\"Bingo\",\"price\":20,\"quantity\":36,\"pkd_on\":\"june\",\"expyear\":2024},\n",
        "      120:{\"product\":\"headandshoulder\",\"price\":1,\"quantity\":400,\"pkd_on\":\"january\",\"expyear\":2029},\n",
        "      121:{\"product\":\"dove soap\",\"price\":30,\"quantity\":300,\"pkd_on\":\"september\",\"expyear\":2030},\n",
        "      122:{\"product\":\"Sunsilk\",\"price\":2,\"quantity\":345,\"pkd_on\":\"\",\"expyear\":2026},\n",
        "      123:{\"product\":\"layers shot\",\"price\":123,\"quantity\":30,\"pkd_on\":\"june\",\"expyear\":2030},\n",
        "      124:{\"product\":\"dairy milk shot\",\"price\":2,\"quantity\":140,\"pkd_on\":\"january\",\"expyear\":2022},\n",
        "      125:{\"product\":\"milky bar\",\"price\":5,\"quantity\":200,\"pkd_on\":\"march\",\"expyear\":2022},\n",
        "      126:{\"product\":\"bleaching powder\",\"price\":34,\"quantity\":40,\"pkd_on\":\"febrauary\",\"expyear\":2024},\n",
        "      127:{\"product\":\"phenol\",\"price\":45,\"quantity\":10,\"pkd_on\":\"march19\",\"expyear\":2025},\n",
        "      128:{\"product\":\"tropicana\",\"price\":90,\"quantity\":60,\"pkd_on\":\"december19\",\"expyear\":2023},\n",
        "      129:{\"product\":\"kitkat\",\"price\":10,\"quantity\":24,\"pkd_on\":\"march19\",\"expyear\":2024},\n",
        "      130:{\"product\":\"sunflower oil\",\"price\":150,\"quantity\":45,\"pkd_on\":\"november19\",\"expyear\":2025},}\n",
        "js=json.dumps(wholeseller)"
      ],
      "execution_count": 69,
      "outputs": []
    },
    {
      "cell_type": "code",
      "metadata": {
        "colab": {
          "base_uri": "https://localhost:8080/",
          "height": 137
        },
        "id": "uEm21FWI5BDM",
        "outputId": "8a44bd38-9068-430f-a79e-b6b123ddd729"
      },
      "source": [
        "js"
      ],
      "execution_count": 70,
      "outputs": [
        {
          "output_type": "execute_result",
          "data": {
            "application/vnd.google.colaboratory.intrinsic+json": {
              "type": "string"
            },
            "text/plain": [
              "'{\"100\": {\"product\": \"kurkure\", \"price\": 20, \"quantity\": 150, \"pkd_on\": \"november\", \"expyear\": 2021}, \"101\": {\"product\": \"dairy milk\", \"price\": 10, \"quantity\": 140, \"pkd_on\": \"january\", \"expyear\": 2023}, \"102\": {\"product\": \"parle g\", \"price\": 10, \"quantity\": 50, \"pkd_on\": \"january\", \"expyear\": 2023}, \"103\": {\"product\": \"lays\", \"price\": 5, \"quantity\": 120, \"pkd_on\": \"feb\", \"expyear\": 2026}, \"104\": {\"product\": \"kurkure\", \"price\": 10, \"quantity\": 160, \"pkd_on\": \"febrauary\", \"expyear\": 2026}, \"105\": {\"product\": \"DCM soap\", \"price\": 25, \"quantity\": 100, \"pkd_on\": \"june\", \"expyear\": 2025}, \"106\": {\"product\": \"lifeboy\", \"price\": 27, \"quantity\": 80, \"pkd_on\": \"june\", \"expyear\": 2028}, \"107\": {\"product\": \"Santoor\", \"price\": 29, \"quantity\": 60, \"pkd_on\": \"august\", \"expyear\": 2026}, \"108\": {\"product\": \"surfexel\", \"price\": 35, \"quantity\": 40, \"pkd_on\": \"january\", \"expyear\": 2030}, \"109\": {\"product\": \"sprite\", \"price\": 40, \"quantity\": 200, \"pkd_on\": \"january\", \"expyear\": 2022}, \"110\": {\"product\": \"cococola\", \"price\": 42, \"quantity\": 20, \"pkd_on\": \"march\", \"expyear\": 2022}, \"111\": {\"product\": \"chicken masala\", \"price\": 10, \"quantity\": 100, \"pkd_on\": \"june\", \"expyear\": 2025}, \"112\": {\"product\": \"garam masala\", \"price\": 10, \"quantity\": 90, \"pkd_on\": \"november\", \"expyear\": 2025}, \"113\": {\"product\": \"kinder joy\", \"price\": 25, \"quantity\": 76, \"pkd_on\": \"april\", \"expyear\": 2024}, \"114\": {\"product\": \"medimix\", \"price\": 32, \"quantity\": 30, \"pkd_on\": \"january\", \"expyear\": 2026}, \"115\": {\"product\": \"dove shampoo\", \"price\": 60, \"quantity\": 120, \"pkd_on\": \"march\", \"expyear\": 2025}, \"116\": {\"product\": \"icecream\", \"price\": 15, \"quantity\": 40, \"pkd_on\": \"december\", \"expyear\": 2022}, \"117\": {\"product\": \"Axe perfume\", \"price\": 90, \"quantity\": 30, \"pkd_on\": \"july\", \"expyear\": 2026}, \"118\": {\"product\": \"gone mad\", \"price\": 10, \"quantity\": 140, \"pkd_on\": \"august\", \"expyear\": 2024}, \"119\": {\"product\": \"Bingo\", \"price\": 20, \"quantity\": 36, \"pkd_on\": \"june\", \"expyear\": 2024}, \"120\": {\"product\": \"headandshoulder\", \"price\": 1, \"quantity\": 400, \"pkd_on\": \"january\", \"expyear\": 2029}, \"121\": {\"product\": \"dove soap\", \"price\": 30, \"quantity\": 300, \"pkd_on\": \"september\", \"expyear\": 2030}, \"122\": {\"product\": \"Sunsilk\", \"price\": 2, \"quantity\": 345, \"pkd_on\": \"\", \"expyear\": 2026}, \"123\": {\"product\": \"layers shot\", \"price\": 123, \"quantity\": 30, \"pkd_on\": \"june\", \"expyear\": 2030}, \"124\": {\"product\": \"dairy milk shot\", \"price\": 2, \"quantity\": 140, \"pkd_on\": \"january\", \"expyear\": 2022}, \"125\": {\"product\": \"milky bar\", \"price\": 5, \"quantity\": 200, \"pkd_on\": \"march\", \"expyear\": 2022}, \"126\": {\"product\": \"bleaching powder\", \"price\": 34, \"quantity\": 40, \"pkd_on\": \"febrauary\", \"expyear\": 2024}, \"127\": {\"product\": \"phenol\", \"price\": 45, \"quantity\": 10, \"pkd_on\": \"march19\", \"expyear\": 2025}, \"128\": {\"product\": \"tropicana\", \"price\": 90, \"quantity\": 60, \"pkd_on\": \"december19\", \"expyear\": 2023}, \"129\": {\"product\": \"kitkat\", \"price\": 10, \"quantity\": 24, \"pkd_on\": \"march19\", \"expyear\": 2024}, \"130\": {\"product\": \"sunflower oil\", \"price\": 150, \"quantity\": 45, \"pkd_on\": \"november19\", \"expyear\": 2025}}'"
            ]
          },
          "metadata": {},
          "execution_count": 70
        }
      ]
    },
    {
      "cell_type": "code",
      "metadata": {
        "colab": {
          "base_uri": "https://localhost:8080/"
        },
        "id": "zkSBkwEA5D1p",
        "outputId": "8558a724-7692-4b89-f421-663a3bd26ce6"
      },
      "source": [
        "fd.write(js)"
      ],
      "execution_count": 71,
      "outputs": [
        {
          "output_type": "execute_result",
          "data": {
            "text/plain": [
              "3090"
            ]
          },
          "metadata": {},
          "execution_count": 71
        }
      ]
    },
    {
      "cell_type": "code",
      "metadata": {
        "id": "NF6vG-7_5Gcm"
      },
      "source": [
        "fd = open(\"list.json\",'r')\n",
        "\n",
        "t = fd.read()\n",
        "\n",
        "fd.close()"
      ],
      "execution_count": 72,
      "outputs": []
    },
    {
      "cell_type": "code",
      "metadata": {
        "colab": {
          "base_uri": "https://localhost:8080/"
        },
        "id": "oh0KI3205Hae",
        "outputId": "113bc2a3-beb5-44b0-e626-b7e8fd78d3a2"
      },
      "source": [
        "\n",
        "wholeseller = json.loads(t)\n",
        "\n",
        "wholeseller"
      ],
      "execution_count": 73,
      "outputs": [
        {
          "output_type": "execute_result",
          "data": {
            "text/plain": [
              "{'100': {'expyear': 2021,\n",
              "  'pkd_on': 'november',\n",
              "  'price': 20,\n",
              "  'product': 'kurkure',\n",
              "  'quantity': 150},\n",
              " '101': {'expyear': 2023,\n",
              "  'pkd_on': 'january',\n",
              "  'price': 10,\n",
              "  'product': 'dairy milk',\n",
              "  'quantity': 140},\n",
              " '102': {'expyear': 2023,\n",
              "  'pkd_on': 'january',\n",
              "  'price': 10,\n",
              "  'product': 'parle g',\n",
              "  'quantity': 50},\n",
              " '103': {'expyear': 2026,\n",
              "  'pkd_on': 'feb',\n",
              "  'price': 5,\n",
              "  'product': 'lays',\n",
              "  'quantity': 120},\n",
              " '104': {'expyear': 2026,\n",
              "  'pkd_on': 'febrauary',\n",
              "  'price': 10,\n",
              "  'product': 'kurkure',\n",
              "  'quantity': 160},\n",
              " '105': {'expyear': 2025,\n",
              "  'pkd_on': 'june',\n",
              "  'price': 25,\n",
              "  'product': 'DCM soap',\n",
              "  'quantity': 100},\n",
              " '106': {'expyear': 2028,\n",
              "  'pkd_on': 'june',\n",
              "  'price': 27,\n",
              "  'product': 'lifeboy',\n",
              "  'quantity': 80},\n",
              " '107': {'expyear': 2026,\n",
              "  'pkd_on': 'august',\n",
              "  'price': 29,\n",
              "  'product': 'Santoor',\n",
              "  'quantity': 60},\n",
              " '108': {'expyear': 2030,\n",
              "  'pkd_on': 'january',\n",
              "  'price': 35,\n",
              "  'product': 'surfexel',\n",
              "  'quantity': 40},\n",
              " '109': {'expyear': 2022,\n",
              "  'pkd_on': 'january',\n",
              "  'price': 40,\n",
              "  'product': 'sprite',\n",
              "  'quantity': 200},\n",
              " '110': {'expyear': 2022,\n",
              "  'pkd_on': 'march',\n",
              "  'price': 42,\n",
              "  'product': 'cococola',\n",
              "  'quantity': 20},\n",
              " '111': {'expyear': 2025,\n",
              "  'pkd_on': 'june',\n",
              "  'price': 10,\n",
              "  'product': 'chicken masala',\n",
              "  'quantity': 100},\n",
              " '112': {'expyear': 2025,\n",
              "  'pkd_on': 'november',\n",
              "  'price': 10,\n",
              "  'product': 'garam masala',\n",
              "  'quantity': 90},\n",
              " '113': {'expyear': 2024,\n",
              "  'pkd_on': 'april',\n",
              "  'price': 25,\n",
              "  'product': 'kinder joy',\n",
              "  'quantity': 76},\n",
              " '114': {'expyear': 2026,\n",
              "  'pkd_on': 'january',\n",
              "  'price': 32,\n",
              "  'product': 'medimix',\n",
              "  'quantity': 30},\n",
              " '115': {'expyear': 2025,\n",
              "  'pkd_on': 'march',\n",
              "  'price': 60,\n",
              "  'product': 'dove shampoo',\n",
              "  'quantity': 120},\n",
              " '116': {'expyear': 2022,\n",
              "  'pkd_on': 'december',\n",
              "  'price': 15,\n",
              "  'product': 'icecream',\n",
              "  'quantity': 40},\n",
              " '117': {'expyear': 2026,\n",
              "  'pkd_on': 'july',\n",
              "  'price': 90,\n",
              "  'product': 'Axe perfume',\n",
              "  'quantity': 30},\n",
              " '118': {'expyear': 2024,\n",
              "  'pkd_on': 'august',\n",
              "  'price': 10,\n",
              "  'product': 'gone mad',\n",
              "  'quantity': 140},\n",
              " '119': {'expyear': 2024,\n",
              "  'pkd_on': 'june',\n",
              "  'price': 20,\n",
              "  'product': 'Bingo',\n",
              "  'quantity': 36},\n",
              " '120': {'expyear': 2029,\n",
              "  'pkd_on': 'january',\n",
              "  'price': 1,\n",
              "  'product': 'headandshoulder',\n",
              "  'quantity': 400},\n",
              " '121': {'expyear': 2030,\n",
              "  'pkd_on': 'september',\n",
              "  'price': 30,\n",
              "  'product': 'dove soap',\n",
              "  'quantity': 300},\n",
              " '122': {'expyear': 2026,\n",
              "  'pkd_on': '',\n",
              "  'price': 2,\n",
              "  'product': 'Sunsilk',\n",
              "  'quantity': 345},\n",
              " '123': {'expyear': 2030,\n",
              "  'pkd_on': 'june',\n",
              "  'price': 123,\n",
              "  'product': 'layers shot',\n",
              "  'quantity': 30},\n",
              " '124': {'expyear': 2022,\n",
              "  'pkd_on': 'january',\n",
              "  'price': 2,\n",
              "  'product': 'dairy milk shot',\n",
              "  'quantity': 140},\n",
              " '125': {'expyear': 2022,\n",
              "  'pkd_on': 'march',\n",
              "  'price': 5,\n",
              "  'product': 'milky bar',\n",
              "  'quantity': 200},\n",
              " '126': {'expyear': 2024,\n",
              "  'pkd_on': 'febrauary',\n",
              "  'price': 34,\n",
              "  'product': 'bleaching powder',\n",
              "  'quantity': 40},\n",
              " '127': {'expyear': 2025,\n",
              "  'pkd_on': 'march19',\n",
              "  'price': 45,\n",
              "  'product': 'phenol',\n",
              "  'quantity': 10},\n",
              " '128': {'expyear': 2023,\n",
              "  'pkd_on': 'december19',\n",
              "  'price': 90,\n",
              "  'product': 'tropicana',\n",
              "  'quantity': 60},\n",
              " '129': {'expyear': 2024,\n",
              "  'pkd_on': 'march19',\n",
              "  'price': 10,\n",
              "  'product': 'kitkat',\n",
              "  'quantity': 24},\n",
              " '130': {'expyear': 2025,\n",
              "  'pkd_on': 'november19',\n",
              "  'price': 150,\n",
              "  'product': 'sunflower oil',\n",
              "  'quantity': 45}}"
            ]
          },
          "metadata": {},
          "execution_count": 73
        }
      ]
    },
    {
      "cell_type": "code",
      "metadata": {
        "colab": {
          "base_uri": "https://localhost:8080/"
        },
        "id": "kR68RWp48Vp8",
        "outputId": "40762c36-f1b5-4f5c-e8dd-88c016a207ea"
      },
      "source": [
        "\n",
        "  \n",
        "print('----------------------------------')\n",
        "  \n",
        "  \n",
        "print('----------------------------------')\n",
        "  \n",
        "d=int(input(\"Enter the number of products you want to purchase: \"))\n",
        "print('----------------------------------')\n",
        "pur={}\n",
        "  \n",
        "fd=open(\"list.json\",'r')\n",
        "t=fd.read()\n",
        "fd.close()\n",
        "list1=json.loads(t)\n",
        "\n",
        "#updating product\n",
        "\n",
        "    \n",
        "\n",
        "   \n",
        "  \n",
        "for i in range (0,d):\n",
        "    \n",
        "    \n",
        "    print(\"Enter item id : \", end='')\n",
        "    k=input()\n",
        "    print(\"item: \", wholeseller[k])\n",
        "    print(\"Quantity:\", end='')\n",
        "    v=int(input())\n",
        "    \n",
        "    pur.update({k:v})\n",
        "    print(\"---------------------------------\")\n",
        "    \n",
        "    \n",
        "    \n",
        "    if k in list1:\n",
        "            \n",
        "            a=list1[k]['quantity']-v\n",
        "            list1[k]['quantity']=a\n",
        "    \n",
        "\n",
        "\n",
        "\n",
        "  \n",
        "\n",
        "  "
      ],
      "execution_count": 75,
      "outputs": [
        {
          "output_type": "stream",
          "name": "stdout",
          "text": [
            "----------------------------------\n",
            "----------------------------------\n",
            "Enter the number of products you want to purchase: 2\n",
            "----------------------------------\n",
            "Enter item id : 112\n",
            "item:  {'product': 'garam masala', 'price': 10, 'quantity': 90, 'pkd_on': 'november', 'expyear': 2025}\n",
            "Quantity:5\n",
            "---------------------------------\n",
            "Enter item id : 114\n",
            "item:  {'product': 'medimix', 'price': 32, 'quantity': 30, 'pkd_on': 'january', 'expyear': 2026}\n",
            "Quantity:5\n",
            "---------------------------------\n"
          ]
        }
      ]
    },
    {
      "cell_type": "code",
      "metadata": {
        "colab": {
          "base_uri": "https://localhost:8080/"
        },
        "id": "LeUYYr655TS5",
        "outputId": "afb753a2-a8d0-4890-cf98-1735b7cbeacc"
      },
      "source": [
        "amt=0\n",
        "print(\"*********Billing statement**********\")\n",
        "for i in pur:    \n",
        "    if(i in wholeseller.keys()):\n",
        "        \n",
        "        print(\"!!!!------------------------------------!!!!\")\n",
        "        print('Item: {}' .format(wholeseller[i]['product']))\n",
        "        print('Quantity: {}' .format(pur[i]))\n",
        "        \n",
        "        print('Cost: {} '.format(pur[i]*wholeseller[i]['price']))\n",
        "        print(\"-------------------------------------\")\n",
        "        amt+=pur[i]*wholeseller[i]['price']\n",
        "print('Total bill : ',amt)\n",
        "print(\"You had to pay: Rs\",amt)\n"
      ],
      "execution_count": 77,
      "outputs": [
        {
          "output_type": "stream",
          "name": "stdout",
          "text": [
            "*********Billing statement**********\n",
            "!!!!------------------------------------!!!!\n",
            "Item: garam masala\n",
            "Quantity: 5\n",
            "Cost: 50 \n",
            "-------------------------------------\n",
            "!!!!------------------------------------!!!!\n",
            "Item: medimix\n",
            "Quantity: 5\n",
            "Cost: 160 \n",
            "-------------------------------------\n",
            "Total bill :  210\n",
            "You had to pay: Rs 210\n"
          ]
        }
      ]
    },
    {
      "cell_type": "code",
      "metadata": {
        "colab": {
          "base_uri": "https://localhost:8080/"
        },
        "id": "WTUq8ePm5VrR",
        "outputId": "93ecc78d-296a-4cfe-ecaf-3a93466213a7"
      },
      "source": [
        "print(\"----------Stock left in wholeseller---------\")\n",
        "list1"
      ],
      "execution_count": 79,
      "outputs": [
        {
          "output_type": "stream",
          "name": "stdout",
          "text": [
            "----------Stock left in wholeseller---------\n"
          ]
        },
        {
          "output_type": "execute_result",
          "data": {
            "text/plain": [
              "{'100': {'expyear': 2021,\n",
              "  'pkd_on': 'november',\n",
              "  'price': 20,\n",
              "  'product': 'kurkure',\n",
              "  'quantity': 150},\n",
              " '101': {'expyear': 2023,\n",
              "  'pkd_on': 'january',\n",
              "  'price': 10,\n",
              "  'product': 'dairy milk',\n",
              "  'quantity': 140},\n",
              " '102': {'expyear': 2023,\n",
              "  'pkd_on': 'january',\n",
              "  'price': 10,\n",
              "  'product': 'parle g',\n",
              "  'quantity': 50},\n",
              " '103': {'expyear': 2026,\n",
              "  'pkd_on': 'feb',\n",
              "  'price': 5,\n",
              "  'product': 'lays',\n",
              "  'quantity': 120},\n",
              " '104': {'expyear': 2026,\n",
              "  'pkd_on': 'febrauary',\n",
              "  'price': 10,\n",
              "  'product': 'kurkure',\n",
              "  'quantity': 160},\n",
              " '105': {'expyear': 2025,\n",
              "  'pkd_on': 'june',\n",
              "  'price': 25,\n",
              "  'product': 'DCM soap',\n",
              "  'quantity': 100},\n",
              " '106': {'expyear': 2028,\n",
              "  'pkd_on': 'june',\n",
              "  'price': 27,\n",
              "  'product': 'lifeboy',\n",
              "  'quantity': 80},\n",
              " '107': {'expyear': 2026,\n",
              "  'pkd_on': 'august',\n",
              "  'price': 29,\n",
              "  'product': 'Santoor',\n",
              "  'quantity': 60},\n",
              " '108': {'expyear': 2030,\n",
              "  'pkd_on': 'january',\n",
              "  'price': 35,\n",
              "  'product': 'surfexel',\n",
              "  'quantity': 40},\n",
              " '109': {'expyear': 2022,\n",
              "  'pkd_on': 'january',\n",
              "  'price': 40,\n",
              "  'product': 'sprite',\n",
              "  'quantity': 200},\n",
              " '110': {'expyear': 2022,\n",
              "  'pkd_on': 'march',\n",
              "  'price': 42,\n",
              "  'product': 'cococola',\n",
              "  'quantity': 20},\n",
              " '111': {'expyear': 2025,\n",
              "  'pkd_on': 'june',\n",
              "  'price': 10,\n",
              "  'product': 'chicken masala',\n",
              "  'quantity': 100},\n",
              " '112': {'expyear': 2025,\n",
              "  'pkd_on': 'november',\n",
              "  'price': 10,\n",
              "  'product': 'garam masala',\n",
              "  'quantity': 85},\n",
              " '113': {'expyear': 2024,\n",
              "  'pkd_on': 'april',\n",
              "  'price': 25,\n",
              "  'product': 'kinder joy',\n",
              "  'quantity': 76},\n",
              " '114': {'expyear': 2026,\n",
              "  'pkd_on': 'january',\n",
              "  'price': 32,\n",
              "  'product': 'medimix',\n",
              "  'quantity': 25},\n",
              " '115': {'expyear': 2025,\n",
              "  'pkd_on': 'march',\n",
              "  'price': 60,\n",
              "  'product': 'dove shampoo',\n",
              "  'quantity': 120},\n",
              " '116': {'expyear': 2022,\n",
              "  'pkd_on': 'december',\n",
              "  'price': 15,\n",
              "  'product': 'icecream',\n",
              "  'quantity': 40},\n",
              " '117': {'expyear': 2026,\n",
              "  'pkd_on': 'july',\n",
              "  'price': 90,\n",
              "  'product': 'Axe perfume',\n",
              "  'quantity': 30},\n",
              " '118': {'expyear': 2024,\n",
              "  'pkd_on': 'august',\n",
              "  'price': 10,\n",
              "  'product': 'gone mad',\n",
              "  'quantity': 140},\n",
              " '119': {'expyear': 2024,\n",
              "  'pkd_on': 'june',\n",
              "  'price': 20,\n",
              "  'product': 'Bingo',\n",
              "  'quantity': 36},\n",
              " '120': {'expyear': 2029,\n",
              "  'pkd_on': 'january',\n",
              "  'price': 1,\n",
              "  'product': 'headandshoulder',\n",
              "  'quantity': 400},\n",
              " '121': {'expyear': 2030,\n",
              "  'pkd_on': 'september',\n",
              "  'price': 30,\n",
              "  'product': 'dove soap',\n",
              "  'quantity': 300},\n",
              " '122': {'expyear': 2026,\n",
              "  'pkd_on': '',\n",
              "  'price': 2,\n",
              "  'product': 'Sunsilk',\n",
              "  'quantity': 345},\n",
              " '123': {'expyear': 2030,\n",
              "  'pkd_on': 'june',\n",
              "  'price': 123,\n",
              "  'product': 'layers shot',\n",
              "  'quantity': 30},\n",
              " '124': {'expyear': 2022,\n",
              "  'pkd_on': 'january',\n",
              "  'price': 2,\n",
              "  'product': 'dairy milk shot',\n",
              "  'quantity': 140},\n",
              " '125': {'expyear': 2022,\n",
              "  'pkd_on': 'march',\n",
              "  'price': 5,\n",
              "  'product': 'milky bar',\n",
              "  'quantity': 200},\n",
              " '126': {'expyear': 2024,\n",
              "  'pkd_on': 'febrauary',\n",
              "  'price': 34,\n",
              "  'product': 'bleaching powder',\n",
              "  'quantity': 40},\n",
              " '127': {'expyear': 2025,\n",
              "  'pkd_on': 'march19',\n",
              "  'price': 45,\n",
              "  'product': 'phenol',\n",
              "  'quantity': 10},\n",
              " '128': {'expyear': 2023,\n",
              "  'pkd_on': 'december19',\n",
              "  'price': 90,\n",
              "  'product': 'tropicana',\n",
              "  'quantity': 60},\n",
              " '129': {'expyear': 2024,\n",
              "  'pkd_on': 'march19',\n",
              "  'price': 10,\n",
              "  'product': 'kitkat',\n",
              "  'quantity': 24},\n",
              " '130': {'expyear': 2025,\n",
              "  'pkd_on': 'november19',\n",
              "  'price': 150,\n",
              "  'product': 'sunflower oil',\n",
              "  'quantity': 45}}"
            ]
          },
          "metadata": {},
          "execution_count": 79
        }
      ]
    },
    {
      "cell_type": "code",
      "metadata": {
        "id": "8nzxWsu55lmX"
      },
      "source": [
        "fd=open(\"updated_product.json\", 'w')\n",
        "js=json.dumps(list1)\n",
        "fd.write(js)\n",
        "fd = open(\"updated_product.json\",'r')\n",
        "\n",
        "t = fd.read()\n",
        "\n",
        "fd.close()"
      ],
      "execution_count": 80,
      "outputs": []
    }
  ]
}